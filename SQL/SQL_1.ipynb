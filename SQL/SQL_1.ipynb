{
 "cells": [
  {
   "cell_type": "code",
   "execution_count": 1,
   "id": "073ebd5a",
   "metadata": {},
   "outputs": [
    {
     "name": "stdout",
     "output_type": "stream",
     "text": [
      "Requirement already satisfied: mysql.connector.python in d:\\programdata\\anaconda3\\lib\\site-packages (9.4.0)\n"
     ]
    }
   ],
   "source": [
    "!pip install mysql.connector.python"
   ]
  },
  {
   "cell_type": "code",
   "execution_count": 2,
   "id": "824e1d16",
   "metadata": {},
   "outputs": [],
   "source": [
    "import mysql.connector\n",
    "db = mysql.connector.connect(\n",
    "    host = '127.0.0.1',\n",
    "    user = 'root',\n",
    "    password = '0100',\n",
    "    database = 'sakila'\n",
    ")\n",
    "cursor = db.cursor()"
   ]
  },
  {
   "cell_type": "code",
   "execution_count": 3,
   "id": "4d7b06ae",
   "metadata": {},
   "outputs": [
    {
     "name": "stdout",
     "output_type": "stream",
     "text": [
      "('actor',)\n",
      "('actor_info',)\n",
      "('address',)\n",
      "('category',)\n",
      "('city',)\n",
      "('country',)\n",
      "('customer',)\n",
      "('customer_list',)\n",
      "('film',)\n",
      "('film_actor',)\n",
      "('film_category',)\n",
      "('film_list',)\n",
      "('film_text',)\n",
      "('inventory',)\n",
      "('language',)\n",
      "('nicer_but_slower_film_list',)\n",
      "('payment',)\n",
      "('rental',)\n",
      "('sales_by_film_category',)\n",
      "('sales_by_store',)\n",
      "('staff',)\n",
      "('staff_list',)\n",
      "('store',)\n"
     ]
    }
   ],
   "source": [
    "cursor.reset()\n",
    "cursor.execute('show tables')\n",
    "\n",
    "tables = cursor.fetchall()\n",
    "for table in tables:\n",
    "    print(table)"
   ]
  },
  {
   "cell_type": "code",
   "execution_count": 4,
   "id": "90a5e4a9",
   "metadata": {},
   "outputs": [],
   "source": [
    "cursor.execute('CREATE DATABASE IF NOT EXISTS debi_3')"
   ]
  },
  {
   "cell_type": "code",
   "execution_count": 5,
   "id": "64a29cd2",
   "metadata": {},
   "outputs": [
    {
     "name": "stdout",
     "output_type": "stream",
     "text": [
      "[('debi_3',), ('information_schema',), ('mysql',), ('performance_schema',), ('sakila',), ('sys',), ('world',)]\n"
     ]
    }
   ],
   "source": [
    "cursor.execute('SHOW DATABASES')\n",
    "print(cursor.fetchall())"
   ]
  },
  {
   "cell_type": "code",
   "execution_count": 6,
   "id": "2afa5cbd",
   "metadata": {},
   "outputs": [],
   "source": [
    "cursor.execute('use debi_3')"
   ]
  },
  {
   "cell_type": "code",
   "execution_count": 7,
   "id": "9ef8015f",
   "metadata": {},
   "outputs": [
    {
     "name": "stdout",
     "output_type": "stream",
     "text": [
      "[('employee',)]\n"
     ]
    }
   ],
   "source": [
    "cursor.execute('CREATE TABLE IF NOT EXISTS Employee (id INT, name VARCHAR(255), age INT)')\n",
    "cursor.execute('show tables')\n",
    "print(cursor.fetchall())"
   ]
  },
  {
   "cell_type": "code",
   "execution_count": 8,
   "id": "5e435d4e",
   "metadata": {},
   "outputs": [],
   "source": [
    "scheme = cursor.fetchall()\n",
    "for table in scheme:\n",
    "    print(table)\n"
   ]
  },
  {
   "cell_type": "code",
   "execution_count": 9,
   "id": "ba963c51",
   "metadata": {},
   "outputs": [],
   "source": [
    "cursor.execute('DROP TABLE IF EXISTS Employee')\n",
    "cursor.execute('show tables')\n",
    "tables = cursor.fetchall()\n",
    "for table in tables:\n",
    "    print(table)"
   ]
  },
  {
   "cell_type": "code",
   "execution_count": 10,
   "id": "dd8bd74e",
   "metadata": {},
   "outputs": [],
   "source": [
    "cursor.execute(\"CREATE TABLE IF NOT EXISTS Employee (id INT, name VARCHAR(255), age INT)\")\n"
   ]
  },
  {
   "cell_type": "code",
   "execution_count": 11,
   "id": "54f57edf",
   "metadata": {},
   "outputs": [
    {
     "name": "stdout",
     "output_type": "stream",
     "text": [
      "('id', 'int', 'YES', '', None, '')\n",
      "('name', 'varchar(255)', 'YES', '', None, '')\n",
      "('age', 'int', 'YES', '', None, '')\n"
     ]
    }
   ],
   "source": [
    "\n",
    "cursor.execute(\"DESCRIBE Employee\")\n",
    "schema = cursor.fetchall()\n",
    "for column in schema:\n",
    "    print(column)"
   ]
  },
  {
   "cell_type": "code",
   "execution_count": 12,
   "id": "2181f3e8",
   "metadata": {},
   "outputs": [],
   "source": [
    "cursor.execute('ALTER TABLE Employee ADD COLUMN salary INT NOT NULL')"
   ]
  },
  {
   "cell_type": "code",
   "execution_count": 13,
   "id": "89f6a936",
   "metadata": {},
   "outputs": [],
   "source": [
    "cursor.execute('ALTER TABLE Employee MODIFY COLUMN salary INT')"
   ]
  },
  {
   "cell_type": "code",
   "execution_count": 14,
   "id": "553db348",
   "metadata": {},
   "outputs": [
    {
     "name": "stdout",
     "output_type": "stream",
     "text": [
      "(1, 'John Doe', 30, 5000)\n"
     ]
    }
   ],
   "source": [
    "cursor.execute(\"INSERT INTO Employee (id, name, age, salary) VALUES (1, 'John Doe', 30, 5000)\")\n",
    "\n",
    "cursor.execute(\"SELECT * FROM Employee\")\n",
    "rows = cursor.fetchall()\n",
    "for row in rows:\n",
    "    print(row)"
   ]
  },
  {
   "cell_type": "code",
   "execution_count": 15,
   "id": "a95dda31",
   "metadata": {},
   "outputs": [
    {
     "name": "stdout",
     "output_type": "stream",
     "text": [
      "(1, 'John Doe', 30, 5000)\n",
      "(2, 'Jane Smith', 25, None)\n",
      "(3, 'Alice Johnson', 28, None)\n",
      "(4, 'Bob Brown', 35, None)\n"
     ]
    }
   ],
   "source": [
    "data = [\n",
    "    (2, 'Jane Smith', 25),\n",
    "    (3, 'Alice Johnson', 28),\n",
    "    (4, 'Bob Brown', 35)\n",
    "]\n",
    "\n",
    "cursor.executemany(\"INSERT INTO Employee (id, name, age) VALUES (%s, %s, %s)\", data)\n",
    "\n",
    "cursor.execute(\"SELECT * FROM Employee\")\n",
    "rows = cursor.fetchall()\n",
    "for row in rows:\n",
    "    print(row)"
   ]
  },
  {
   "cell_type": "code",
   "execution_count": 16,
   "id": "97bcd0c9",
   "metadata": {},
   "outputs": [],
   "source": [
    "cursor.execute('TRUNCATE TABLE Employee')"
   ]
  },
  {
   "cell_type": "code",
   "execution_count": 17,
   "id": "91d38afe",
   "metadata": {},
   "outputs": [],
   "source": [
    "cursor.execute('select * from Employee')\n",
    "rows = cursor.fetchall()\n",
    "for row in rows:\n",
    "    print(row)"
   ]
  },
  {
   "cell_type": "code",
   "execution_count": 18,
   "id": "159bfb98",
   "metadata": {},
   "outputs": [],
   "source": [
    "cursor.execute(\"UPDATE Employee SET salary = 3000 WHERE age < 30\")\n",
    "\n",
    "cursor.execute('select * from Employee')\n",
    "rows = cursor.fetchall()\n",
    "for row in rows:\n",
    "    print(row)"
   ]
  },
  {
   "cell_type": "code",
   "execution_count": 19,
   "id": "893dd8e8",
   "metadata": {},
   "outputs": [],
   "source": [
    "cursor.execute('DELETE FROM Employee WHERE id = 1')\n",
    " \n",
    "cursor.execute('select * from Employee')\n",
    "rows = cursor.fetchall()\n",
    "for row in rows:\n",
    "    print(row)"
   ]
  },
  {
   "cell_type": "code",
   "execution_count": 20,
   "id": "146c08ae",
   "metadata": {},
   "outputs": [],
   "source": [
    "cursor.execute(\"UPDATE Employee SET salary = 5000 WHERE salary IS NULL\")\n",
    "\n",
    "cursor.execute(\"SELECT * FROM Employee\")\n",
    "rows = cursor.fetchall()\n",
    "for row in rows:\n",
    "    print(row)"
   ]
  }
 ],
 "metadata": {
  "kernelspec": {
   "display_name": "base",
   "language": "python",
   "name": "python3"
  },
  "language_info": {
   "codemirror_mode": {
    "name": "ipython",
    "version": 3
   },
   "file_extension": ".py",
   "mimetype": "text/x-python",
   "name": "python",
   "nbconvert_exporter": "python",
   "pygments_lexer": "ipython3",
   "version": "3.13.5"
  }
 },
 "nbformat": 4,
 "nbformat_minor": 5
}
